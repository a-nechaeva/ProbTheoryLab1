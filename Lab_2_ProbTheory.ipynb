{
  "nbformat": 4,
  "nbformat_minor": 0,
  "metadata": {
    "colab": {
      "provenance": [],
      "collapsed_sections": [
        "kGLaevJSROQZ",
        "vnARSSHTRSF-",
        "TzOrySmrRU-E",
        "pdeZqbGV_Kfe",
        "n-Q6Kfo_AM65",
        "qXfz9XFOAqBJ",
        "FsXaBXXAmxMX",
        "LEncwvjRRdpQ"
      ]
    },
    "kernelspec": {
      "name": "python3",
      "display_name": "Python 3"
    },
    "language_info": {
      "name": "python"
    }
  },
  "cells": [
    {
      "cell_type": "markdown",
      "source": [
        "***\n",
        "#***✨ Лабораторная работа № 2 ✨***\n",
        "***\n",
        "###**Вариант 7**\n",
        "\n",
        "Подготовили\n",
        "*   **Нечаева Анна**\n",
        "*   **Куцало Александр**\n",
        "***"
      ],
      "metadata": {
        "id": "QDFMXpVrR-9R"
      }
    },
    {
      "cell_type": "markdown",
      "source": [
        "## ✨***Задание 1***"
      ],
      "metadata": {
        "id": "kGLaevJSROQZ"
      }
    },
    {
      "cell_type": "markdown",
      "source": [
        "\n",
        "***\n",
        "**Условие**\n",
        "\n",
        "Пусть $X$ $-$ случайная величина, принимающая значения $0^2, 1^2, 2^2, \\dots$ с положительными вероятностями и $$\\sum \\limits_{k=0 }^{\\infty} P \\left( X=k^2 \\right) = 1$$\n",
        "*Показать, что $X$ не может быть представлена как сумма двух независимых случайных величин, каждая из которых имеет невырожденное распределение.*\n",
        "***\n"
      ],
      "metadata": {
        "id": "j4Rc5b4_Uk9P"
      }
    },
    {
      "cell_type": "markdown",
      "source": [
        "###**Решение**\n",
        "\n",
        "<!-- решение типа -->\n",
        "*   Случайные величины $\\xi_1, \\dots, \\xi_n$ называются *независимыми*, если для любых борелевских множеств $B_1, \\dots, B_n$ в $\\mathbb{R}$ выполняется равенство $$P\\left( \\xi_1 \\in B_1, \\dots, \\xi_n \\in B_n \\right) = P\\left( \\xi_1 \\in B_1\\right) \\cdot \\dots P\\left(\\xi_n \\in B_n \\right)$$\n",
        "*   Пусть $X$ представима в виде суммы двух независимых случайных величин $Y$ и $Z$, каждая из которых имеет невырожденное распределение, значит, $$X=Y+Z$$\n",
        "*   $$\\sum \\limits_{k=0 }^{\\infty} P \\left( X=k^2 \\right) = \\sum \\limits_{k=0 }^{\\infty} P \\left( Y + Z=k^2 \\right) = 1$$\n",
        "<!-- *   $$P \\left( y + z \\right) = P \\left(y \\right) + P \\left( z \\right) - P \\left( y \\cdot z \\right) = P \\left(y \\right) + P \\left( z \\right) - P \\left( y \\right) \\cdot P \\left( z \\right) $$-->\n",
        "*   $$\\sum \\limits_{k=0 }^{\\infty} P \\left( Y + Z=k^2 \\right) = \\sum \\limits_{k=0 }^{\\infty} P \\left(Y = a, Z = k^2 -a \\right) = \\sum \\limits_{k=0 }^{\\infty} \\sum \\limits_{a=0 }^{k^2} P \\left(Y = a \\right) \\cdot P \\left( Z = k^2 -a \\right) $$\n",
        "*   $$\\sum \\limits_{a=0 }^{k^2} P \\left(Y = a \\right) \\cdot P \\left( Z = k^2 -a \\right) > 0$$\n",
        "\n",
        "\n",
        "\n",
        "*   В то же время аналогично сумму можно переписать как: $$\\sum \\limits_{b=0 }^{k^2} P \\left(Y = k^2 - b \\right) \\cdot P \\left( Z = b \\right) > 0$$\n",
        "\n",
        "*   рассмотрим $k=0$, тогда $P \\left(Y = 0 \\right) \\cdot P \\left( Z = 0 \\right) > 0$, то есть обе величины принимают значение $0$ с положительной вероятностью;\n",
        "\n",
        "*   Пусть в $Y$ счетное число элементов, а в $Z$ $-$ хотя бы 2 различных элемента $z_1$, $z_2$, тогда в $Y$ найдется такой элемент $y_1$, что $$\\cases{z_1 + y_1 = 0, \\\\ z_2 + y_1 = k_1^2 \\neq 0}$$\n",
        "\n",
        "*   Рассмотрим еще один аналогичный случай: в $Y$ найдется такой элемент $y_2$, что $$\\cases{z_1 + y_2 = 1, \\\\ z_2 + y_2 = k_2^2 \\neq 0; 1}$$\n",
        "\n",
        "*   Из первой совокупности уравнений выразим $z_2 - z_1 = k_1^2$, из второй $z_2-z_1 = k_2^2-1$, отсюда получим $k_1^2=k_2^2-1$. Последнее равенство достигается только только в случае $k_1^2=0$ и $k_2^2=1$, что противоречит введенным ограничениям. **Таким образом, распределение $Z$ состоит только из одного элемента, то есть является вырожденным. В силу симметрии подобное доказывается и для $Y$, если мы примем $Z$ невырожденным распределением, содержащим счетное число элементов.**\n",
        "\n",
        "***\n",
        "###**Ответ:**\n",
        "*показано, что $X$ не может быть представлена как сумма двух независимых случайных величин, каждая из которых имеет невырожденное распределение.*\n",
        "***"
      ],
      "metadata": {
        "id": "vPXTManERp6t"
      }
    },
    {
      "cell_type": "markdown",
      "source": [
        "##✨***Задание 2***"
      ],
      "metadata": {
        "id": "vnARSSHTRSF-"
      }
    },
    {
      "cell_type": "markdown",
      "source": [
        "\n",
        "***\n",
        "**Условие**\n",
        "\n",
        "Пусть пара случайных величин $\\left(U, V \\right)$ имеет равномерное распределение на единичном круге и $W=U^2 + V^2$. Положим\n",
        "$$\n",
        "X=U\\sqrt{-\\frac{2 \\ln W}{W}}, \\, \\, Y=V \\sqrt{-\\frac{2 \\ln W}{W}}$$\n",
        "\n",
        "Показать, что $X, Y$ $-$ независимы и имеют *стандартное гауссовское распределение* (т.е. плотность $X, Y$ равна $\\frac{1}{\\sqrt{2\\pi}}e^{-\\frac{t^2}{2}}$).\n",
        "***"
      ],
      "metadata": {
        "id": "7mdOry5GW3j5"
      }
    },
    {
      "cell_type": "markdown",
      "source": [
        "###**Доказательство**\n",
        "\n",
        "Для решения данной задачи развернем условие и **докажем, что 2 независимые величины, имеющие стандартное гауссовское распределение, можно выразить через формулы, данные в условии**\n",
        "\n",
        "Рассмотрим удовлетворяющие условию величины $X$ и $Y$. Так как они распределены по стандартному гауссовскому распределению, их можно интерпретировать как координаты случайной точки, лежащей в единичном круге. Рассмотрим сумму квадратов.\n",
        "\n",
        "Воспользуемся распределением *хи-квадрат*\n",
        "\n",
        "Хи-квадрат – распределение $k$ независимых стандартных нормальных случайных величин. В нашем случае говорится о  распределении *хи-квадрат с 2 степенями свободы*. Тогда распределение экспоненциально:\n",
        "$$\n",
        "\\chi^2(2)=Exp(1/2)\n",
        "$$\n",
        "$$\n",
        "p(x) = \\frac{1}{2}e^{-\\frac{x}{2}}\n",
        "$$\n",
        "$$\n",
        "F(x) = 1 - e^{-\\frac{x}{2}}\n",
        "$$\n",
        "\n",
        "\\\n",
        "При переводе в полярную систему координат($X = \\rho cos \\varphi$, $Y = \\rho sin \\varphi$), $X^2 + Y^2 = \\rho^2$ а значит квадрат радиуса будет распределен экспоненциально. Тогда угол $\\varphi$ будет распределен равномерно, так как радиус равноценен во всех направлениях.\n",
        "$$\n",
        "\\rho \\sim Exp(1/2)\n",
        "$$\n",
        "$$\n",
        "\\varphi \\sim U[0, 1]\n",
        "$$\n",
        "\n",
        "\\\n",
        "Теперь выразим полярные переменные через $U$ и $V$ по-отдельности.\n",
        "\n",
        "Обратная функции экспоненциального распределения функция:\n",
        "\n",
        "$$\n",
        "F_W(F^{-1}_W(x)) = x\n",
        "$$\n",
        "$$\n",
        "1 - e^{-\\frac{F^{-1}_W(x)}{2}} = x\n",
        "$$\n",
        "$$\n",
        "-\\frac{F^{-1}_W(x)}{2} = ln(1-x)\n",
        "$$\n",
        "$$\n",
        "F^{-1}_W(x) = -2ln(1-x)\n",
        "$$\n",
        "Так как равномерное распределение принимает одинаковые значения на области\n",
        "определения, $F^{-1}_W(x)$ можно заменить на:\n",
        "$$\n",
        "F^{-1}_W(x) = -2ln(x)\n",
        "$$\n",
        "\n",
        "Значит $\\rho$ равно:\n",
        "$$\n",
        "\\rho = \\sqrt{\\rho^2} = \\sqrt{-2ln(x)}\n",
        "$$\n",
        "\n",
        "Для $\\varphi$: так как она равномерно распределена, достаточно домножить равномерно распределенную на $[0,1]$ величину:\n",
        "$$\n",
        "\\varphi = 2\\pi x\n",
        "$$\n",
        "\n",
        "Подставим $U$ и $V$ по нашему усмотрению:\n",
        "$$\n",
        "\\rho = \\sqrt{-2ln(U)}\n",
        "$$\n",
        "$$\n",
        "\\varphi = 2\\pi V\n",
        "$$\n",
        "Сделаем обратную замену переменных:\n",
        "$$\n",
        "X = \\rho cos \\varphi = \\sqrt{-2ln(U)} cos(2\\pi V)\n",
        "$$\n",
        "$$\n",
        "Y = \\rho sin \\varphi = \\sqrt{-2ln(U)} sin(2\\pi V)\n",
        "$$\n",
        "X и Y независимы и имеют стандартное гауссовское распределение(дисперсия 1 и мат. ожидание 0). Осталось свести полученные формулы к данному в условии виду. Используя синус и косинус мы получаем прямоугольные координаты $X$ и $Y$, точки, удаленной от 0 на $\\sqrt{-2ln(U)} \\in [0, 1]$ и повернутой на угол $2\\pi V \\in [0, 2\\pi]$. Координаты распределены равномерно, так что вместо синусоидальных функций можно использовать равномерно распределенные в $[0,1]$ величины($U$ и $V$), \"отнормировав\" значения, поделив на корень суммы квадратов. Также заметим что $W$ будет распределено равномерно:\n",
        "$W$ – квадрат расстояния, а количество точек на определенном расстоянии $w$ пропорционально длине окружности радиусом $w$. Плотность распределения расстояний возрастает равномерно на $[0,1]$ – $p(w) = Cw, C = const$, тогда плотность квадрата равномерная, так как в данном случае надо разделить на производную функции преобразования(как раз $w^2$). Значит $W$ распределено равномерно и замена возможна\n",
        "\n",
        "Используем $U$ для косинуса и $V$ для синуса, используем $W = U^2 + V^2$:\n",
        "$$\n",
        "X = \\sqrt{-2ln(U)} cos(2\\pi V) = \\sqrt{-2ln(U)} \\frac{U}{\\sqrt{U^2+V^2}} = U\\sqrt{-\\frac{2lnW}{W}}\n",
        "$$\n",
        "$$\n",
        "Y =\\sqrt{-2ln(U)} sin(2\\pi V) = \\sqrt{-2ln(U)} \\frac{V}{\\sqrt{U^2+V^2}} = V\\sqrt{-\\frac{2lnW}{W}}\n",
        "$$\n",
        "\n",
        "$\\Box$\n",
        "\n",
        "----"
      ],
      "metadata": {
        "id": "OEH1JeU8SAvG"
      }
    },
    {
      "cell_type": "markdown",
      "source": [
        "##✨***Задание 3***"
      ],
      "metadata": {
        "id": "TzOrySmrRU-E"
      }
    },
    {
      "cell_type": "markdown",
      "source": [
        "\n",
        "***\n",
        "**Условие**\n",
        "*   Для заданной плотности $p$  наследоваться от класса *rv_continuous* и сгенерировать с помощью реализованного подкласса для нашего распределения $n$ случайных чисел из данного распределения. Посмотреть, как будет работать алгоритм при росте $n$ (сразу большим $n$ не делать).\n",
        "\n",
        "*   Реализовать генерацию для нашего распределения с помощью обратной к функции распределения (при написании функции для $F^{-1}$ вызов специальных функций, например, квантили стандартного нормального закона разрешается). Провести тот же эксперимент.\n",
        "\n",
        "*   Выбрать еще один метод для генерации случайных чисел (можно, например, *rejecting sampling, ratio of uniforms* или другой метод). Описать его математическое обоснование. Воспользоваться реализацией или реализовать самим. Провести тот же эксперимент.\n",
        "\n",
        "$$p(x) = \\frac{4 \\ln^3 x}{x}\\mathbb{1} \\left( x \\in [1, e] \\right)$$\n",
        "\n",
        "***"
      ],
      "metadata": {
        "id": "ku5rq8pPYpMF"
      }
    },
    {
      "cell_type": "markdown",
      "source": [
        "### **Решение**\n",
        "$F$:\n",
        "$$\n",
        "F(t) = \\int_1^t{\\frac{4 ln^3x}{x}dx} = \\int_1^t{4 ln^3x \\cdot d(lnx)} = ln^4x \\Big|_1^t = ln^4t\n",
        "$$\n",
        "$F^{-1}$:\n",
        "$$\n",
        "ln^4(F^{-1}(t)) = t\n",
        "$$\n",
        "$$\n",
        "ln(F^{-1}(t)) = \\sqrt[4]{t}\n",
        "$$\n",
        "$$\n",
        "F^{-1}(t) = e^{\\sqrt[4]{t}}\n",
        "$$"
      ],
      "metadata": {
        "id": "pdeZqbGV_Kfe"
      }
    },
    {
      "cell_type": "code",
      "source": [
        "import scipy.stats\n",
        "import numpy as np\n",
        "import matplotlib.pyplot as plt\n",
        "%matplotlib inline\n",
        "\n",
        "from time import time"
      ],
      "metadata": {
        "id": "-15h5XQTAF4H"
      },
      "execution_count": null,
      "outputs": []
    },
    {
      "cell_type": "code",
      "source": [
        "def p(x):\n",
        "    return (4 * np.power(np.log(x), 3)) / x"
      ],
      "metadata": {
        "id": "kevSoVO1AH65"
      },
      "execution_count": null,
      "outputs": []
    },
    {
      "cell_type": "code",
      "source": [
        "def F(x):\n",
        "    return np.power(np.log(x), 4)"
      ],
      "metadata": {
        "id": "6abJ19fRAJdn"
      },
      "execution_count": null,
      "outputs": []
    },
    {
      "cell_type": "code",
      "source": [
        "def F_inverse(x):\n",
        "    return np.exp(np.power(x, 1 / 4))"
      ],
      "metadata": {
        "id": "o07r7mNBAKwJ"
      },
      "execution_count": null,
      "outputs": []
    },
    {
      "cell_type": "markdown",
      "source": [
        "#### `scipy.stats.rv_continuous` через задание плотности:"
      ],
      "metadata": {
        "id": "n-Q6Kfo_AM65"
      }
    },
    {
      "cell_type": "code",
      "source": [
        "class CustomRandomValue(scipy.stats.rv_continuous):\n",
        "    def __init__(self, *args, **kwargs):\n",
        "        # override инициализации, для жесткого задания границ распределения(параметры a и b)\n",
        "        kwargs['a'] = 1  # Сделано так для того, чтобы не было ошибки с дважды указанными параметрами a и b\n",
        "        kwargs['b'] = np.e\n",
        "        super().__init__(*args, **kwargs)\n",
        "\n",
        "    def _pdf(self, x, *args):\n",
        "        \"\"\"\n",
        "        Probability density function\n",
        "        \"\"\"\n",
        "        # Здесь\n",
        "        return p(x)\n"
      ],
      "metadata": {
        "id": "T3wQS6R-AMKN"
      },
      "execution_count": null,
      "outputs": []
    },
    {
      "cell_type": "code",
      "source": [
        "custom_dist = CustomRandomValue()\n",
        "samples = custom_dist.rvs(size=1000)\n",
        "\n",
        "x = np.linspace(0, np.e, 1000)\n",
        "plt.plot(x, custom_dist.pdf(x))\n",
        "plt.xlabel('x')\n",
        "plt.ylabel('Probability Density')\n",
        "plt.title('Custom Distribution PDF')\n",
        "plt.show()\n",
        "plt.hist(samples)\n",
        "plt.xlabel('x')\n",
        "plt.ylabel('Amount of samples')\n",
        "plt.title('Custom Distribution samples histogram')\n",
        "plt.show()"
      ],
      "metadata": {
        "colab": {
          "base_uri": "https://localhost:8080/",
          "height": 927
        },
        "id": "bxRehLRLAfBB",
        "outputId": "b812688a-368e-4e3d-e600-8c566db98a44"
      },
      "execution_count": null,
      "outputs": [
        {
          "output_type": "display_data",
          "data": {
            "text/plain": [
              "<Figure size 640x480 with 1 Axes>"
            ],
            "image/png": "[encoded data removed]"
          },
          "metadata": {}
        },
        {
          "output_type": "display_data",
          "data": {
            "text/plain": [
              "<Figure size 640x480 with 1 Axes>"
            ],
            "image/png": "[encoded data removed]"
          },
          "metadata": {}
        }
      ]
    },
    {
      "cell_type": "code",
      "source": [
        "# Benchmark\n",
        "\n",
        "FAIR_COUNT = False  # Чтобы каждый раз не считать, можно вывести заранее посчитанное значение\n",
        "for n in [10, 100, 1000, 10000, 100000]:\n",
        "    if n == 100000 and not FAIR_COUNT:\n",
        "        print(f'Time for {n}: 201.41884589195251')\n",
        "        continue\n",
        "    start = time()\n",
        "    samples = custom_dist.rvs(size=n)\n",
        "    end = time()\n",
        "    print(f'Time for {n}: {end - start}')"
      ],
      "metadata": {
        "colab": {
          "base_uri": "https://localhost:8080/"
        },
        "id": "4-i5jCIuAhDL",
        "outputId": "e054b3fe-6d70-4a1d-a05b-e016fa161c0d"
      },
      "execution_count": null,
      "outputs": [
        {
          "output_type": "stream",
          "name": "stdout",
          "text": [
            "Time for 10: 0.03093433380126953\n",
            "Time for 100: 0.28847360610961914\n",
            "Time for 1000: 1.9796521663665771\n",
            "Time for 10000: 17.783445358276367\n",
            "Time for 100000: 201.41884589195251\n"
          ]
        }
      ]
    },
    {
      "cell_type": "markdown",
      "source": [
        "Заметно, что генерация данным методом занимает значительное время: на $10^5$ значений тратится несколько минут"
      ],
      "metadata": {
        "id": "xkhFZmsqAlCj"
      }
    },
    {
      "cell_type": "markdown",
      "source": [
        "#### Метод генерации через $F^{-1}$"
      ],
      "metadata": {
        "id": "qXfz9XFOAqBJ"
      }
    },
    {
      "cell_type": "code",
      "source": [
        "class CustomRandomValue(scipy.stats.rv_continuous):\n",
        "    def __init__(self, *args, **kwargs):\n",
        "        kwargs['a'] = 1\n",
        "        kwargs['b'] = np.e\n",
        "        super().__init__(*args, **kwargs)\n",
        "\n",
        "    def _rvs(self, *args, size=None, random_state=None):\n",
        "        return F_inverse(np.random.random(size))"
      ],
      "metadata": {
        "id": "brGziMHOAjCR"
      },
      "execution_count": null,
      "outputs": []
    },
    {
      "cell_type": "code",
      "source": [
        "custom_dist = CustomRandomValue()\n",
        "samples = custom_dist.rvs(size=100000)\n",
        "plt.hist(samples)\n",
        "plt.xlabel('x')\n",
        "plt.ylabel('Amount of samples')\n",
        "plt.title('Custom Distribution samples histogram')\n",
        "plt.show()"
      ],
      "metadata": {
        "colab": {
          "base_uri": "https://localhost:8080/",
          "height": 472
        },
        "id": "G6-W3Yf3AxRY",
        "outputId": "b3042d25-a730-4b50-f309-18c6684afa3a"
      },
      "execution_count": null,
      "outputs": [
        {
          "output_type": "display_data",
          "data": {
            "text/plain": [
              "<Figure size 640x480 with 1 Axes>"
            ],
            "image/png": "[encoded data removed]"
          },
          "metadata": {}
        }
      ]
    },
    {
      "cell_type": "code",
      "source": [
        "# Benchmark\n",
        "for n in [10, 100, 1000, 10000, 100000]:\n",
        "    start = time()\n",
        "    custom_dist.rvs(size=n)\n",
        "    end = time()\n",
        "    print(f'Time for {n}: {end - start}')"
      ],
      "metadata": {
        "colab": {
          "base_uri": "https://localhost:8080/"
        },
        "id": "9v9DG3zpAz10",
        "outputId": "6744a3f1-1e70-4157-9b9d-d6369117f635"
      },
      "execution_count": null,
      "outputs": [
        {
          "output_type": "stream",
          "name": "stdout",
          "text": [
            "Time for 10: 0.008697509765625\n",
            "Time for 100: 0.0002970695495605469\n",
            "Time for 1000: 0.000274658203125\n",
            "Time for 10000: 0.0008432865142822266\n",
            "Time for 100000: 0.014401674270629883\n"
          ]
        }
      ]
    },
    {
      "cell_type": "markdown",
      "source": [
        "Заметна значительная разница во времени создания выборок. Это вызвано внутренним устройством `rv_continuous`:\n",
        "\n",
        "- В случае, если указана только функция плотности `_pdf`, `scikit` пытается восстановить по ней функцию `cdf`, что занимает несоизмеримо большое количество времени\n",
        "- В случае, если задана $F^{-1}$, достаточно сгенерировать $N$ значений от 0 до 1, и применить ко всем им данную функцию. В итоге никакие значения не отбрасываются, и выборка генерируется заметно быстрее\n",
        "\n",
        "Рассмотрим другие подходы к генерации выборки"
      ],
      "metadata": {
        "id": "RuQTtmiHBNZN"
      }
    },
    {
      "cell_type": "markdown",
      "source": [
        "#### Rejection sampling"
      ],
      "metadata": {
        "id": "FsXaBXXAmxMX"
      }
    },
    {
      "cell_type": "markdown",
      "source": [
        "**Обоснование**\n",
        "\n",
        "В библиотеках, в частности в `numpy`, реализован генератор псевдослучайных чисел, или же генератор равномерно распределенных величин. Удобно использовать его для генерации своей выборки\n",
        "\n",
        "Так как величины распределены равномерно, то при больших размерах выборки на каждую единицу площади должно приходиться одинаковое количество величин. В таком случае *площадью можно измерять количество*.\n",
        "\n",
        "Как известно, $F(x) = \\int_{-∞}^{x}{p(x)dx}$, или же площадь под графиком функции плотности распределения от $-∞$ до $x$ является соответствующим\n",
        "$x$ значением функции распределения. Также, $F(x) = P(X ≤ x) = \\frac{N_{\\le x}}{N}$ = $\\frac{S_{\\le x}}{S}$. Если величины распределены равномерно, то достаточно \"отрезать\" все величины, которые находятся выше графика $p(x)$ и рассматривать только те, которые находятся под ним: $\\{(x,y) | y \\le p(x) \\}$. В таком случае количество величин каждого значения будет соответствовать распределению с плотностью $p(x)$"
      ],
      "metadata": {
        "id": "6UzuYbCdm2oC"
      }
    },
    {
      "cell_type": "code",
      "source": [
        "def generate_via_rs(n, a, b, pdf_function, verbose=False):\n",
        "    \"\"\"\n",
        "    Generates n random values from pdf function\n",
        "    :param n: Сколько значений нужно\n",
        "    :param a: левая граница\n",
        "    :param b: правая граница\n",
        "    :param pdf_function: функция плотности распределения (принимает float, возвращает float)\n",
        "    :param verbose: флаг, который при значении True выводит общее количество сгенерированных\n",
        "          случайных величин\n",
        "    :return: Массив из n величин, распределенных по pdf_function\n",
        "    \"\"\"\n",
        "    out = np.empty(n, dtype=np.float64)\n",
        "    good_amt = 0\n",
        "    generated_overall = 0\n",
        "    while good_amt < n:\n",
        "        generated_overall += 1\n",
        "        x, y = np.random.uniform(a, b, 2)\n",
        "        if pdf_function(x) >= y:\n",
        "            out[good_amt] = x\n",
        "            good_amt += 1\n",
        "    if verbose:\n",
        "      print(f\"Generated overall: {generated_overall}\")\n",
        "    return out"
      ],
      "metadata": {
        "id": "vXP8aB2Pm4i8"
      },
      "execution_count": null,
      "outputs": []
    },
    {
      "cell_type": "code",
      "source": [
        "samples = generate_via_rs(10000, 1, np.e, p)\n",
        "plt.hist(samples)\n",
        "plt.xlabel('x')\n",
        "plt.ylabel('Amount of samples')\n",
        "plt.title('Custom Distribution samples histogram')\n",
        "plt.show()"
      ],
      "metadata": {
        "colab": {
          "base_uri": "https://localhost:8080/",
          "height": 472
        },
        "id": "5668QVuMm7CV",
        "outputId": "9c425b70-969b-4d14-ce67-a24eb6bb87e7"
      },
      "execution_count": null,
      "outputs": [
        {
          "output_type": "display_data",
          "data": {
            "text/plain": [
              "<Figure size 640x480 with 1 Axes>"
            ],
            "image/png": "[encoded data removed]"
          },
          "metadata": {}
        }
      ]
    },
    {
      "cell_type": "code",
      "source": [
        "# Benchmark\n",
        "for n in [10, 100, 1000, 10000, 100000]:\n",
        "    start = time()\n",
        "    generate_via_rs(n, 1, np.e, p)\n",
        "    end = time()\n",
        "    print(f'Time for {n}: {end - start}')"
      ],
      "metadata": {
        "colab": {
          "base_uri": "https://localhost:8080/"
        },
        "id": "dH-pWnWHm8HU",
        "outputId": "f67b7c80-4a3a-4143-8fcc-845472f8d6ed"
      },
      "execution_count": null,
      "outputs": [
        {
          "output_type": "stream",
          "name": "stdout",
          "text": [
            "Time for 10: 0.007734060287475586\n",
            "Time for 100: 0.02142930030822754\n",
            "Time for 1000: 0.2634868621826172\n",
            "Time for 10000: 2.7035298347473145\n",
            "Time for 100000: 29.63057804107666\n"
          ]
        }
      ]
    },
    {
      "cell_type": "markdown",
      "source": [
        "Функция работает быстрее, чем восстановление `cdf` по `pdf`, но все еще достаточно медленно. Посмотрим, почему же это происходит"
      ],
      "metadata": {
        "id": "PmH188g9nxRE"
      }
    },
    {
      "cell_type": "code",
      "source": [
        "_ = generate_via_rs(10000, 1, np.e, p, verbose=True)"
      ],
      "metadata": {
        "colab": {
          "base_uri": "https://localhost:8080/"
        },
        "id": "bATuJTWmn681",
        "outputId": "b57956df-89bb-4a26-d95f-87888aea0744"
      },
      "execution_count": null,
      "outputs": [
        {
          "output_type": "stream",
          "name": "stdout",
          "text": [
            "Generated overall: 298153\n"
          ]
        }
      ]
    },
    {
      "cell_type": "markdown",
      "source": [
        "Можем заметить, что для генерации 10 000 величин по заданной функции плотности пришлось сгенерировать около 300 000 равномерно распределенных величин. Оценить асимптотику данного алгоритма сложно, так как 300 000 - это все еще $O(n)$ при $n = 10 000$, но понятно, что генерировать в 30 раз больше значений - достаточно долго для больших выборок"
      ],
      "metadata": {
        "id": "rgJg0MIroG34"
      }
    },
    {
      "cell_type": "markdown",
      "source": [
        "##✨***Задание 4***"
      ],
      "metadata": {
        "id": "LEncwvjRRdpQ"
      }
    },
    {
      "cell_type": "markdown",
      "source": [
        "\n",
        "***\n",
        "**Условие**\n",
        "\n",
        "Пусть $X_1, \\dots X_n$ $-$ i.i.d. величины из некоторого распределения, которое параметризуется параметром $\\theta \\in E$. Пусть $\\overline{X}_n = \\left( X_1 + \\dots + X_n\\right) / n, \\mu_\\theta - $ математическое ожидание случайной ведичины $X_i$. Найти с помощью неравенства Чебышёва и центральной предельной теоремы номер $n_{\\delta, \\epsilon}$, при котором для любого $\n",
        "\\theta \\in E$ и заданных $\\delta, \\epsilon \\in (0, 1)$ выполняется соотношение\n",
        "$$\n",
        "P \\left( \\big| \\overline{X}_{n_{\\delta, \\epsilon}} - \\mu_\\theta \\big| \\leq \\epsilon \\right) \\geq 1 - \\delta\n",
        "$$\n",
        "\n",
        "Сгенерировать 100 выборок найденного объема $n_{\\delta, \\epsilon}$ и посчитать количество и долю выборок, для которых $\\big| \\overline{X}_{n_{\\delta, \\epsilon}} - \\mu_\\theta \\big| \\leq \\epsilon$. Параметры эксперимента: $\\epsilon = 0.01, \\, \\delta = 0.05$ и $\\theta$, при котором найдено $n_{\\delta, \\epsilon}$. То же самое сделать и для $n_{\\delta, \\epsilon}$, найденного с помощью ЦПТ.\n",
        "\n",
        "Класс распределений и множество возможных значений параметра $E$:\n",
        "$$Pois(\\lambda), \\, \\lambda \\in (0, 10)$$\n",
        "***"
      ],
      "metadata": {
        "id": "ikQisu8ksck_"
      }
    },
    {
      "cell_type": "markdown",
      "source": [
        "###**Решение**\n",
        "\n",
        "<!-- решение типа -->\n",
        ">Запишем ***неравенство Чебышёва***.\n",
        "*Пусть $X$ $-$ случайная величина. Тогда для любого $\\epsilon > 0$ справедливо неравенство* $$P \\left( | X - EX | \\geq \\epsilon \\right) \\leq \\frac{Var X}{\\epsilon^2}$$\n",
        "\n",
        "\n",
        "\n",
        " *   $θ$ и есть $λ$ в распределении Пуассона. То есть класс распределений и множество возможных значений параметра $E$:\n",
        " $$Pois(\\theta) \\to P(X=k) = e^{-\\theta} \\cdot \\frac{\\theta^k}{k!}$$\n",
        "\n",
        " *   Математическое ожидание в таком случае $EX=\\mu_θ = θ$, дисперсия так же $VarX=θ$;\n",
        "\n",
        " *   Запишем так же математическое ожидание и дисперсию для $\\overline{X}_{n}$: $$E \\, \\overline{X}_{n} = \\frac{1}{n} \\sum \\limits_{}^n E X_i = \\frac{θ n}{n} = θ$$ $$Var \\, \\overline{X}_{n} = \\frac{1}{n^2}\\sum \\limits_{}^n Var X_i = \\frac{θ n}{n^2} = \\frac{θ}{n} $$\n",
        "\n",
        " *   Так неравенство Чебышёва перепишется в виде: $$P \\left( | X - θ | \\geq \\epsilon \\right) \\leq \\frac{θ}{n \\epsilon^2}$$ и запишем его альтернативную форму $$P \\left( | X - θ | < \\epsilon \\right) > 1 - \\frac{θ}{n\\epsilon^2}$$\n",
        "\n",
        " *   Исходное неравество так же перепишем с учетом найденного математического ожидания $$\n",
        "P \\left( \\big| \\overline{X}_{n_{\\delta, \\epsilon}} - \\theta \\big| \\leq \\epsilon \\right) \\geq 1 - \\delta\n",
        "$$\n",
        "\n",
        "*   Тогда получим следующее неравенство: $$\\frac{θ}{n\\epsilon^2} \\leq δ$$\n",
        "\n",
        "*   Откуда выразим $n$: $$n \\geq \\frac{θ}{δ\\epsilon^2}$$\n",
        "\n",
        "*   Подставим вместо $\\theta$ значение $10$: $$n \\geq \\frac{10}{δ\\epsilon^2}$$\n",
        "\n",
        "\n",
        "***\n",
        "\n",
        ">Запишем **центральную предельную теорему**. Пусть $\\{X_i \\}^\\infty_{i=1}$ $-$ $i.i.d$, $EX_i = \\mu_θ$, $\\exists VarX_i$, $S_n = \\sum \\limits_{}^n X_i$, тогда $$\\sup_{x \\in \\mathbb{R}} \\left| P \\left( \\frac{S_n - n \\mu_θ}{\\sqrt{n Var X}} \\leq x  \\right) - Φ(x)  \\right| \\xrightarrow[n \\to \\infty]{} 0$$\n",
        "\n",
        "\n",
        "*   Преобразуем исходное неравенство $$\n",
        "P \\left( \\left| \\frac{S_{n} - n \\theta}{\\sqrt{n VarX}} \\right| \\leq \\epsilon \\sqrt{\\frac{n}{Var X}} \\right) \\geq 1 - \\delta\n",
        "$$\n",
        "\n",
        "*   Воспользуемся ЦПТ: $$P\\left( \\left| \\frac{S_n - n \\theta}{\\sqrt{n θ}}  \\right| \\leq \\epsilon \\sqrt{\\frac{n}{\\theta}} \\right) ≃ 2 Φ \\left( \\epsilon \\sqrt{\\frac{n}{\\theta}} \\right) - 1 \\geq 1 - \\delta$$\n",
        "\n",
        "*   $$ Φ \\left( \\epsilon \\sqrt{\\frac{n}{\\theta}} \\right) \\geq 1 - \\frac{\\delta}{2}$$\n",
        "\n",
        "\n",
        "*   При $\\theta = 10$: $$ Φ \\left( \\epsilon \\sqrt{\\frac{n}{10}} \\right) \\geq 1 - \\frac{\\delta}{2}$$\n",
        "\n",
        "\n",
        "* Минимальное подходящее $n$ найдем с помощью кода:"
      ],
      "metadata": {
        "id": "hMHfzO8DSIPX"
      }
    },
    {
      "cell_type": "code",
      "source": [
        "10/(0.05*0.01*0.01)"
      ],
      "metadata": {
        "colab": {
          "base_uri": "https://localhost:8080/"
        },
        "id": "lIrG6OwP_KFj",
        "outputId": "9c897682-d54b-4e5f-a361-4c505a722de3"
      },
      "execution_count": null,
      "outputs": [
        {
          "output_type": "execute_result",
          "data": {
            "text/plain": [
              "1999999.9999999998"
            ]
          },
          "metadata": {},
          "execution_count": 1
        }
      ]
    },
    {
      "cell_type": "code",
      "source": [
        "from scipy.stats import norm\n",
        "\n",
        "eps = 0.01\n",
        "delt = 0.05\n",
        "theta = 10\n",
        "\n",
        "_n_clt = 0\n",
        "\n",
        "for i in range(1000000000):\n",
        "  if norm.cdf(eps * np.sqrt(i / theta)) >= 1 - delt / 2:\n",
        "    _n_clt = i\n",
        "    print(\"\\u001b[36;1m Минимальное значение n для ЦПТ:\\u001b[34;1m \", i)\n",
        "    break"
      ],
      "metadata": {
        "colab": {
          "base_uri": "https://localhost:8080/"
        },
        "id": "vgBeS68aat2S",
        "outputId": "05ecfe1f-2afa-47b8-eded-05ad9117d420"
      },
      "execution_count": null,
      "outputs": [
        {
          "output_type": "stream",
          "name": "stdout",
          "text": [
            "\u001b[36;1m Минимальное значение n для ЦПТ:\u001b[34;1m  384146\n"
          ]
        }
      ]
    },
    {
      "cell_type": "code",
      "execution_count": null,
      "metadata": {
        "id": "RSLEpPTcRyJx",
        "colab": {
          "base_uri": "https://localhost:8080/"
        },
        "outputId": "c02502ed-3ead-414f-b44e-d7840c563bc4"
      },
      "outputs": [
        {
          "output_type": "stream",
          "name": "stdout",
          "text": [
            "\u001b[34;1m ~~~ Использование неравенства Чебышёва ~~~\n",
            "\u001b[36;1m Число выборок, для которых выполнено условие:\u001b[34;1m  100\n",
            "\u001b[36;1m Доля выборок, для которых выполнено условие:\u001b[34;1m  1.0\n",
            "\u001b[34;1m ------------------------------------------------------\n",
            "\u001b[34;1m ~~~ Использование Центральной предельной теоремы ~~~\n",
            "\u001b[36;1m Число выборок, для которых выполнено условие:\u001b[34;1m  93\n",
            "\u001b[36;1m Доля выборок, для которых выполнено условие:\u001b[34;1m  0.93\n"
          ]
        }
      ],
      "source": [
        "import numpy as np\n",
        "from math import factorial\n",
        "import random\n",
        "\n",
        "\n",
        "total_count = 100\n",
        "\n",
        "\n",
        "_good_sample = lambda x_n: abs(x_n - theta) <= eps\n",
        "\n",
        "\n",
        "def _chebysh():\n",
        "\n",
        "    n = round(theta / (delt * eps ** 2))\n",
        "    _good_samples_count = 0\n",
        "\n",
        "    for i in range(total_count):\n",
        "\n",
        "        pois = np.random.poisson(theta, n)\n",
        "        _cur_sum = sum(pois)\n",
        "        _good_samples_count += _good_sample(_cur_sum / n)\n",
        "\n",
        "    print(\"\\u001b[34;1m ~~~ Использование неравенства Чебышёва ~~~\")\n",
        "    print(\"\\u001b[36;1m Число выборок, для которых выполнено условие:\\u001b[34;1m \", _good_samples_count)\n",
        "    print(\"\\u001b[36;1m Доля выборок, для которых выполнено условие:\\u001b[34;1m \", _good_samples_count / total_count)\n",
        "    print(\"\\u001b[34;1m ------------------------------------------------------\")\n",
        "\n",
        "\n",
        "def _clt():\n",
        "\n",
        "    _good_samples_count = 0\n",
        "\n",
        "    for i in range(total_count):\n",
        "\n",
        "        pois = np.random.poisson(theta, _n_clt)\n",
        "        _cur_sum = sum(pois)\n",
        "        _good_samples_count += _good_sample(_cur_sum / _n_clt)\n",
        "\n",
        "    print(\"\\u001b[34;1m ~~~ Использование Центральной предельной теоремы ~~~\")\n",
        "    print(\"\\u001b[36;1m Число выборок, для которых выполнено условие:\\u001b[34;1m \", _good_samples_count)\n",
        "    print(\"\\u001b[36;1m Доля выборок, для которых выполнено условие:\\u001b[34;1m \", _good_samples_count / total_count)\n",
        "\n",
        "\n",
        "_chebysh()\n",
        "_clt()\n",
        "\n"
      ]
    }
  ]
}